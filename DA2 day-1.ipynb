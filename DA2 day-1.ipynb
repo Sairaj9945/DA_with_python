{
 "cells": [
  {
   "cell_type": "code",
   "execution_count": 2,
   "id": "aea5d24b",
   "metadata": {},
   "outputs": [
    {
     "data": {
      "text/plain": [
       "4"
      ]
     },
     "execution_count": 2,
     "metadata": {},
     "output_type": "execute_result"
    }
   ],
   "source": [
    "2+2"
   ]
  },
  {
   "cell_type": "code",
   "execution_count": 4,
   "id": "65a99875",
   "metadata": {},
   "outputs": [
    {
     "data": {
      "text/plain": [
       "'C:\\\\Users\\\\Admin'"
      ]
     },
     "execution_count": 4,
     "metadata": {},
     "output_type": "execute_result"
    }
   ],
   "source": [
    "pwd"
   ]
  },
  {
   "cell_type": "code",
   "execution_count": 5,
   "id": "46e2ea6e",
   "metadata": {},
   "outputs": [
    {
     "name": "stdout",
     "output_type": "stream",
     "text": [
      "C:\\Users\\Admin\n"
     ]
    }
   ],
   "source": [
    "%cd"
   ]
  },
  {
   "cell_type": "code",
   "execution_count": 7,
   "id": "1c2171fb",
   "metadata": {},
   "outputs": [],
   "source": [
    "a=32*2"
   ]
  },
  {
   "cell_type": "code",
   "execution_count": 8,
   "id": "9a63aaa5",
   "metadata": {},
   "outputs": [
    {
     "data": {
      "text/plain": [
       "64"
      ]
     },
     "execution_count": 8,
     "metadata": {},
     "output_type": "execute_result"
    }
   ],
   "source": [
    "a"
   ]
  },
  {
   "cell_type": "code",
   "execution_count": 9,
   "id": "24becc35",
   "metadata": {},
   "outputs": [
    {
     "data": {
      "text/plain": [
       "int"
      ]
     },
     "execution_count": 9,
     "metadata": {},
     "output_type": "execute_result"
    }
   ],
   "source": [
    "type(a)"
   ]
  },
  {
   "cell_type": "code",
   "execution_count": 10,
   "id": "6c44dc82",
   "metadata": {},
   "outputs": [],
   "source": [
    "a=12.567*234.6"
   ]
  },
  {
   "cell_type": "code",
   "execution_count": 11,
   "id": "11f65851",
   "metadata": {},
   "outputs": [
    {
     "data": {
      "text/plain": [
       "2948.2182"
      ]
     },
     "execution_count": 11,
     "metadata": {},
     "output_type": "execute_result"
    }
   ],
   "source": [
    "a"
   ]
  },
  {
   "cell_type": "code",
   "execution_count": 12,
   "id": "09f4acf0",
   "metadata": {},
   "outputs": [
    {
     "data": {
      "text/plain": [
       "float"
      ]
     },
     "execution_count": 12,
     "metadata": {},
     "output_type": "execute_result"
    }
   ],
   "source": [
    "type(a)"
   ]
  },
  {
   "cell_type": "code",
   "execution_count": 13,
   "id": "4f45522c",
   "metadata": {},
   "outputs": [],
   "source": [
    "b= \"janak\""
   ]
  },
  {
   "cell_type": "code",
   "execution_count": 14,
   "id": "530dc9ed",
   "metadata": {},
   "outputs": [
    {
     "data": {
      "text/plain": [
       "str"
      ]
     },
     "execution_count": 14,
     "metadata": {},
     "output_type": "execute_result"
    }
   ],
   "source": [
    "type(b)"
   ]
  },
  {
   "cell_type": "code",
   "execution_count": 15,
   "id": "b51f9056",
   "metadata": {},
   "outputs": [],
   "source": [
    "c= True"
   ]
  },
  {
   "cell_type": "code",
   "execution_count": 16,
   "id": "27713a1d",
   "metadata": {},
   "outputs": [
    {
     "data": {
      "text/plain": [
       "bool"
      ]
     },
     "execution_count": 16,
     "metadata": {},
     "output_type": "execute_result"
    }
   ],
   "source": [
    "type(c)"
   ]
  },
  {
   "cell_type": "code",
   "execution_count": 17,
   "id": "5c382acb",
   "metadata": {},
   "outputs": [
    {
     "data": {
      "text/plain": [
       "2"
      ]
     },
     "execution_count": 17,
     "metadata": {},
     "output_type": "execute_result"
    }
   ],
   "source": [
    "True+ True"
   ]
  },
  {
   "cell_type": "code",
   "execution_count": 18,
   "id": "04bf958a",
   "metadata": {},
   "outputs": [
    {
     "data": {
      "text/plain": [
       "1"
      ]
     },
     "execution_count": 18,
     "metadata": {},
     "output_type": "execute_result"
    }
   ],
   "source": [
    "False+ True"
   ]
  },
  {
   "cell_type": "code",
   "execution_count": 19,
   "id": "0cd2becb",
   "metadata": {},
   "outputs": [
    {
     "data": {
      "text/plain": [
       "0"
      ]
     },
     "execution_count": 19,
     "metadata": {},
     "output_type": "execute_result"
    }
   ],
   "source": [
    "False +False"
   ]
  },
  {
   "cell_type": "code",
   "execution_count": 20,
   "id": "32df5132",
   "metadata": {},
   "outputs": [
    {
     "data": {
      "text/plain": [
       "2948.2182"
      ]
     },
     "execution_count": 20,
     "metadata": {},
     "output_type": "execute_result"
    }
   ],
   "source": [
    "a"
   ]
  },
  {
   "cell_type": "code",
   "execution_count": 22,
   "id": "56df8954",
   "metadata": {},
   "outputs": [
    {
     "data": {
      "text/plain": [
       "'janak'"
      ]
     },
     "execution_count": 22,
     "metadata": {},
     "output_type": "execute_result"
    }
   ],
   "source": [
    "b"
   ]
  },
  {
   "cell_type": "code",
   "execution_count": 24,
   "id": "60d5d280",
   "metadata": {},
   "outputs": [
    {
     "data": {
      "text/plain": [
       "'2948.2182janak'"
      ]
     },
     "execution_count": 24,
     "metadata": {},
     "output_type": "execute_result"
    }
   ],
   "source": [
    "str(a)+b"
   ]
  },
  {
   "cell_type": "markdown",
   "id": "86fbc4b2",
   "metadata": {},
   "source": [
    "# String"
   ]
  },
  {
   "cell_type": "code",
   "execution_count": 26,
   "id": "8979505a",
   "metadata": {},
   "outputs": [],
   "source": [
    "a= \"My name is janak suthar\""
   ]
  },
  {
   "cell_type": "code",
   "execution_count": 45,
   "id": "7bc40b95",
   "metadata": {},
   "outputs": [
    {
     "data": {
      "text/plain": [
       "'Mnesakua'"
      ]
     },
     "execution_count": 45,
     "metadata": {},
     "output_type": "execute_result"
    }
   ],
   "source": [
    "a[0:100:3]"
   ]
  },
  {
   "cell_type": "code",
   "execution_count": 47,
   "id": "5117e3ca",
   "metadata": {},
   "outputs": [
    {
     "data": {
      "text/plain": [
       "'name is ja'"
      ]
     },
     "execution_count": 47,
     "metadata": {},
     "output_type": "execute_result"
    }
   ],
   "source": [
    "a[3:-10]"
   ]
  },
  {
   "cell_type": "markdown",
   "id": "05bb59ea",
   "metadata": {},
   "source": [
    "# List"
   ]
  },
  {
   "cell_type": "code",
   "execution_count": 49,
   "id": "58f18a2f",
   "metadata": {},
   "outputs": [
    {
     "data": {
      "text/plain": [
       "[23, 45, 45.67, 'janak', (5+3j), True]"
      ]
     },
     "execution_count": 49,
     "metadata": {},
     "output_type": "execute_result"
    }
   ],
   "source": [
    "d= [23,45,45.67, \"janak\", 5+3j, True]\n",
    "d"
   ]
  },
  {
   "cell_type": "code",
   "execution_count": 50,
   "id": "4a4edd8f",
   "metadata": {},
   "outputs": [
    {
     "data": {
      "text/plain": [
       "list"
      ]
     },
     "execution_count": 50,
     "metadata": {},
     "output_type": "execute_result"
    }
   ],
   "source": [
    "type(d)"
   ]
  },
  {
   "cell_type": "code",
   "execution_count": 51,
   "id": "fadb9bc0",
   "metadata": {},
   "outputs": [
    {
     "data": {
      "text/plain": [
       "23"
      ]
     },
     "execution_count": 51,
     "metadata": {},
     "output_type": "execute_result"
    }
   ],
   "source": [
    "d[0]"
   ]
  },
  {
   "cell_type": "code",
   "execution_count": 55,
   "id": "29a90447",
   "metadata": {},
   "outputs": [
    {
     "data": {
      "text/plain": [
       "bool"
      ]
     },
     "execution_count": 55,
     "metadata": {},
     "output_type": "execute_result"
    }
   ],
   "source": [
    "type(d[5])"
   ]
  },
  {
   "cell_type": "code",
   "execution_count": 56,
   "id": "a65b222a",
   "metadata": {},
   "outputs": [],
   "source": [
    "e= [34,45,\"ram\"]"
   ]
  },
  {
   "cell_type": "code",
   "execution_count": 57,
   "id": "1277f340",
   "metadata": {},
   "outputs": [],
   "source": [
    "b=2"
   ]
  },
  {
   "cell_type": "code",
   "execution_count": 60,
   "id": "8c859a10",
   "metadata": {},
   "outputs": [
    {
     "data": {
      "text/plain": [
       "[23, 45, 45.67, 'janak', (5+3j), True, 2]"
      ]
     },
     "execution_count": 60,
     "metadata": {},
     "output_type": "execute_result"
    }
   ],
   "source": [
    "d+[b]"
   ]
  },
  {
   "cell_type": "code",
   "execution_count": 62,
   "id": "0ec8428d",
   "metadata": {},
   "outputs": [
    {
     "data": {
      "text/plain": [
       "[23, 45, 45.67, 'janak', (5+3j), True, 34, 45, 'ram']"
      ]
     },
     "execution_count": 62,
     "metadata": {},
     "output_type": "execute_result"
    }
   ],
   "source": [
    "d+e"
   ]
  },
  {
   "cell_type": "code",
   "execution_count": 63,
   "id": "a4a77b1a",
   "metadata": {},
   "outputs": [
    {
     "data": {
      "text/plain": [
       "[23, 45, 45.67, 'janak', (5+3j), True]"
      ]
     },
     "execution_count": 63,
     "metadata": {},
     "output_type": "execute_result"
    }
   ],
   "source": [
    "d"
   ]
  },
  {
   "cell_type": "code",
   "execution_count": 65,
   "id": "d0435f2c",
   "metadata": {},
   "outputs": [],
   "source": [
    "d[0]=25"
   ]
  },
  {
   "cell_type": "code",
   "execution_count": 66,
   "id": "b6156fc6",
   "metadata": {},
   "outputs": [
    {
     "data": {
      "text/plain": [
       "[25, 45, 45.67, 'janak', (5+3j), True]"
      ]
     },
     "execution_count": 66,
     "metadata": {},
     "output_type": "execute_result"
    }
   ],
   "source": [
    "d"
   ]
  },
  {
   "cell_type": "code",
   "execution_count": 67,
   "id": "4fbe5c1a",
   "metadata": {},
   "outputs": [
    {
     "data": {
      "text/plain": [
       "6"
      ]
     },
     "execution_count": 67,
     "metadata": {},
     "output_type": "execute_result"
    }
   ],
   "source": [
    "len(d)"
   ]
  },
  {
   "cell_type": "code",
   "execution_count": 68,
   "id": "89b6ed9f",
   "metadata": {},
   "outputs": [],
   "source": [
    "a=\"janak\""
   ]
  },
  {
   "cell_type": "code",
   "execution_count": 69,
   "id": "86ace9fa",
   "metadata": {},
   "outputs": [
    {
     "data": {
      "text/plain": [
       "5"
      ]
     },
     "execution_count": 69,
     "metadata": {},
     "output_type": "execute_result"
    }
   ],
   "source": [
    "len(a)"
   ]
  },
  {
   "cell_type": "code",
   "execution_count": 70,
   "id": "0ffa13aa",
   "metadata": {},
   "outputs": [
    {
     "data": {
      "text/plain": [
       "[25, 45, 45.67, 'janak', (5+3j), True]"
      ]
     },
     "execution_count": 70,
     "metadata": {},
     "output_type": "execute_result"
    }
   ],
   "source": [
    "d"
   ]
  },
  {
   "cell_type": "code",
   "execution_count": 71,
   "id": "2143bddf",
   "metadata": {},
   "outputs": [
    {
     "data": {
      "text/plain": [
       "True"
      ]
     },
     "execution_count": 71,
     "metadata": {},
     "output_type": "execute_result"
    }
   ],
   "source": [
    "d.pop()"
   ]
  },
  {
   "cell_type": "code",
   "execution_count": 72,
   "id": "1a538756",
   "metadata": {},
   "outputs": [
    {
     "data": {
      "text/plain": [
       "[25, 45, 45.67, 'janak', (5+3j)]"
      ]
     },
     "execution_count": 72,
     "metadata": {},
     "output_type": "execute_result"
    }
   ],
   "source": [
    "d"
   ]
  },
  {
   "cell_type": "code",
   "execution_count": 73,
   "id": "044bd41e",
   "metadata": {},
   "outputs": [
    {
     "data": {
      "text/plain": [
       "45.67"
      ]
     },
     "execution_count": 73,
     "metadata": {},
     "output_type": "execute_result"
    }
   ],
   "source": [
    "d.pop(2)"
   ]
  },
  {
   "cell_type": "code",
   "execution_count": 74,
   "id": "02ff3e39",
   "metadata": {},
   "outputs": [
    {
     "data": {
      "text/plain": [
       "[25, 45, 'janak', (5+3j)]"
      ]
     },
     "execution_count": 74,
     "metadata": {},
     "output_type": "execute_result"
    }
   ],
   "source": [
    "d"
   ]
  },
  {
   "cell_type": "code",
   "execution_count": 76,
   "id": "46865c21",
   "metadata": {},
   "outputs": [
    {
     "data": {
      "text/plain": [
       "[25, 45, 'janak', (5+3j)]"
      ]
     },
     "execution_count": 76,
     "metadata": {},
     "output_type": "execute_result"
    }
   ],
   "source": [
    "d"
   ]
  },
  {
   "cell_type": "code",
   "execution_count": 77,
   "id": "4f2e69da",
   "metadata": {},
   "outputs": [],
   "source": [
    "d.append(\"ram\")"
   ]
  },
  {
   "cell_type": "code",
   "execution_count": 78,
   "id": "f02333c0",
   "metadata": {},
   "outputs": [
    {
     "data": {
      "text/plain": [
       "[25, 45, 'janak', (5+3j), 'ram']"
      ]
     },
     "execution_count": 78,
     "metadata": {},
     "output_type": "execute_result"
    }
   ],
   "source": [
    "d"
   ]
  },
  {
   "cell_type": "code",
   "execution_count": 79,
   "id": "c590ebd8",
   "metadata": {},
   "outputs": [],
   "source": [
    "d.append([2,3,4])"
   ]
  },
  {
   "cell_type": "code",
   "execution_count": 80,
   "id": "7cf51390",
   "metadata": {},
   "outputs": [
    {
     "data": {
      "text/plain": [
       "[25, 45, 'janak', (5+3j), 'ram', [2, 3, 4]]"
      ]
     },
     "execution_count": 80,
     "metadata": {},
     "output_type": "execute_result"
    }
   ],
   "source": [
    "d"
   ]
  },
  {
   "cell_type": "code",
   "execution_count": 82,
   "id": "36894c9f",
   "metadata": {},
   "outputs": [],
   "source": [
    "d.extend([2,3,4])"
   ]
  },
  {
   "cell_type": "code",
   "execution_count": 83,
   "id": "aabada56",
   "metadata": {},
   "outputs": [
    {
     "data": {
      "text/plain": [
       "[25, 45, 'janak', (5+3j), 'ram', [2, 3, 4], 2, 3, 4]"
      ]
     },
     "execution_count": 83,
     "metadata": {},
     "output_type": "execute_result"
    }
   ],
   "source": [
    "d"
   ]
  },
  {
   "cell_type": "code",
   "execution_count": 84,
   "id": "e10527de",
   "metadata": {},
   "outputs": [
    {
     "data": {
      "text/plain": [
       "[2, 3, 4]"
      ]
     },
     "execution_count": 84,
     "metadata": {},
     "output_type": "execute_result"
    }
   ],
   "source": [
    "d[5]"
   ]
  },
  {
   "cell_type": "code",
   "execution_count": 85,
   "id": "1fdac10f",
   "metadata": {},
   "outputs": [
    {
     "data": {
      "text/plain": [
       "2"
      ]
     },
     "execution_count": 85,
     "metadata": {},
     "output_type": "execute_result"
    }
   ],
   "source": [
    "d[6]"
   ]
  },
  {
   "cell_type": "code",
   "execution_count": null,
   "id": "5ae05d53",
   "metadata": {},
   "outputs": [],
   "source": []
  }
 ],
 "metadata": {
  "kernelspec": {
   "display_name": "Python 3 (ipykernel)",
   "language": "python",
   "name": "python3"
  },
  "language_info": {
   "codemirror_mode": {
    "name": "ipython",
    "version": 3
   },
   "file_extension": ".py",
   "mimetype": "text/x-python",
   "name": "python",
   "nbconvert_exporter": "python",
   "pygments_lexer": "ipython3",
   "version": "3.10.8"
  }
 },
 "nbformat": 4,
 "nbformat_minor": 5
}
